{
 "cells": [
  {
   "cell_type": "code",
   "execution_count": 1,
   "id": "66a87d8d",
   "metadata": {},
   "outputs": [],
   "source": [
    "# This Python 3 environment comes with many helpful analytics libraries installed\n",
    "# It is defined by the kaggle/python Docker image: https://github.com/kaggle/docker-python\n",
    "# For example, here's several helpful packages to load\n",
    "\n",
    "import numpy as np # linear algebra\n",
    "import pandas as pd # data processing, CSV file I/O (e.g. pd.read_csv)\n",
    "import os\n",
    "import math\n",
    "import matplotlib.pyplot as plt\n",
    "\n",
    "# Input data files are available in the read-only \"../input/\" directory\n",
    "# For example, running this (by clicking run or pressing Shift+Enter) will list all files under the input directory"
   ]
  },
  {
   "cell_type": "code",
   "execution_count": 2,
   "id": "417ea43a",
   "metadata": {},
   "outputs": [
    {
     "data": {
      "text/html": [
       "<div>\n",
       "<style scoped>\n",
       "    .dataframe tbody tr th:only-of-type {\n",
       "        vertical-align: middle;\n",
       "    }\n",
       "\n",
       "    .dataframe tbody tr th {\n",
       "        vertical-align: top;\n",
       "    }\n",
       "\n",
       "    .dataframe thead th {\n",
       "        text-align: right;\n",
       "    }\n",
       "</style>\n",
       "<table border=\"1\" class=\"dataframe\">\n",
       "  <thead>\n",
       "    <tr style=\"text-align: right;\">\n",
       "      <th></th>\n",
       "      <th>rms</th>\n",
       "      <th>mean</th>\n",
       "      <th>kurtosis</th>\n",
       "      <th>SD</th>\n",
       "      <th>skewness</th>\n",
       "      <th>rms2</th>\n",
       "      <th>mean2</th>\n",
       "      <th>kurtosis2</th>\n",
       "      <th>SD2</th>\n",
       "      <th>skewness2</th>\n",
       "      <th>Class</th>\n",
       "    </tr>\n",
       "  </thead>\n",
       "  <tbody>\n",
       "    <tr>\n",
       "      <th>0</th>\n",
       "      <td>67.275553</td>\n",
       "      <td>58.000</td>\n",
       "      <td>-1.028288</td>\n",
       "      <td>36.441734</td>\n",
       "      <td>-0.564492</td>\n",
       "      <td>8.202168</td>\n",
       "      <td>4.750</td>\n",
       "      <td>0.723204</td>\n",
       "      <td>4.773438</td>\n",
       "      <td>1.268973</td>\n",
       "      <td>0</td>\n",
       "    </tr>\n",
       "    <tr>\n",
       "      <th>1</th>\n",
       "      <td>71.092369</td>\n",
       "      <td>66.125</td>\n",
       "      <td>0.150601</td>\n",
       "      <td>27.910252</td>\n",
       "      <td>-0.847333</td>\n",
       "      <td>8.431629</td>\n",
       "      <td>3.375</td>\n",
       "      <td>-1.059797</td>\n",
       "      <td>2.386719</td>\n",
       "      <td>0.131636</td>\n",
       "      <td>0</td>\n",
       "    </tr>\n",
       "    <tr>\n",
       "      <th>2</th>\n",
       "      <td>68.045022</td>\n",
       "      <td>62.125</td>\n",
       "      <td>-0.747352</td>\n",
       "      <td>29.676530</td>\n",
       "      <td>-0.414097</td>\n",
       "      <td>8.248941</td>\n",
       "      <td>4.500</td>\n",
       "      <td>0.154260</td>\n",
       "      <td>4.174754</td>\n",
       "      <td>1.007503</td>\n",
       "      <td>0</td>\n",
       "    </tr>\n",
       "    <tr>\n",
       "      <th>3</th>\n",
       "      <td>67.579583</td>\n",
       "      <td>61.500</td>\n",
       "      <td>-0.855149</td>\n",
       "      <td>29.947573</td>\n",
       "      <td>-0.347715</td>\n",
       "      <td>8.220680</td>\n",
       "      <td>4.250</td>\n",
       "      <td>-0.082869</td>\n",
       "      <td>4.399675</td>\n",
       "      <td>0.907823</td>\n",
       "      <td>0</td>\n",
       "    </tr>\n",
       "    <tr>\n",
       "      <th>4</th>\n",
       "      <td>65.620119</td>\n",
       "      <td>60.000</td>\n",
       "      <td>-0.669361</td>\n",
       "      <td>28.405231</td>\n",
       "      <td>-0.396812</td>\n",
       "      <td>8.100625</td>\n",
       "      <td>5.125</td>\n",
       "      <td>-1.173776</td>\n",
       "      <td>5.383507</td>\n",
       "      <td>0.619500</td>\n",
       "      <td>0</td>\n",
       "    </tr>\n",
       "  </tbody>\n",
       "</table>\n",
       "</div>"
      ],
      "text/plain": [
       "         rms    mean  kurtosis         SD  skewness      rms2  mean2  \\\n",
       "0  67.275553  58.000 -1.028288  36.441734 -0.564492  8.202168  4.750   \n",
       "1  71.092369  66.125  0.150601  27.910252 -0.847333  8.431629  3.375   \n",
       "2  68.045022  62.125 -0.747352  29.676530 -0.414097  8.248941  4.500   \n",
       "3  67.579583  61.500 -0.855149  29.947573 -0.347715  8.220680  4.250   \n",
       "4  65.620119  60.000 -0.669361  28.405231 -0.396812  8.100625  5.125   \n",
       "\n",
       "   kurtosis2       SD2  skewness2  Class  \n",
       "0   0.723204  4.773438   1.268973      0  \n",
       "1  -1.059797  2.386719   0.131636      0  \n",
       "2   0.154260  4.174754   1.007503      0  \n",
       "3  -0.082869  4.399675   0.907823      0  \n",
       "4  -1.173776  5.383507   0.619500      0  "
      ]
     },
     "execution_count": 2,
     "metadata": {},
     "output_type": "execute_result"
    }
   ],
   "source": [
    "data = pd.read_csv(\"alldata.csv\")\n",
    "df = pd.DataFrame(data)\n",
    "df.head()"
   ]
  },
  {
   "cell_type": "code",
   "execution_count": 4,
   "id": "a22fe8eb",
   "metadata": {},
   "outputs": [
    {
     "data": {
      "text/plain": [
       "0      0\n",
       "1      0\n",
       "2      0\n",
       "3      0\n",
       "4      0\n",
       "      ..\n",
       "145    2\n",
       "146    2\n",
       "147    2\n",
       "148    2\n",
       "149    2\n",
       "Name: Class, Length: 150, dtype: int64"
      ]
     },
     "execution_count": 4,
     "metadata": {},
     "output_type": "execute_result"
    }
   ],
   "source": [
    "#from imblearn.over_sampling import SMOTE\n",
    "#oversample = SMOTE()\n",
    "df_target = df['Class']\n",
    "df.pop('Class')#not needed in training \n",
    "#df, df_target = oversample.fit_resample(df, df_target)"
   ]
  },
  {
   "cell_type": "code",
   "execution_count": 5,
   "id": "2a3cbdc1",
   "metadata": {},
   "outputs": [],
   "source": [
    "from sklearn.model_selection import train_test_split\n",
    "x_train, x_test, y_train, y_test = train_test_split(df, df_target, test_size=0.20, random_state=20)"
   ]
  },
  {
   "cell_type": "code",
   "execution_count": 6,
   "id": "843b4a93",
   "metadata": {},
   "outputs": [],
   "source": [
    "#Suport vector classifier\n",
    "from sklearn.svm import LinearSVC\n",
    "svclassifier = LinearSVC(C=0.005,dual=False)\n",
    "svclassifier.fit(x_train, y_train)\n",
    "y_pred = svclassifier.predict(x_test)"
   ]
  },
  {
   "cell_type": "code",
   "execution_count": 7,
   "id": "d036f960",
   "metadata": {},
   "outputs": [
    {
     "name": "stdout",
     "output_type": "stream",
     "text": [
      "[[6 2 0]\n",
      " [4 7 0]\n",
      " [4 2 5]]\n",
      "              precision    recall  f1-score   support\n",
      "\n",
      "           0       0.43      0.75      0.55         8\n",
      "           1       0.64      0.64      0.64        11\n",
      "           2       1.00      0.45      0.62        11\n",
      "\n",
      "    accuracy                           0.60        30\n",
      "   macro avg       0.69      0.61      0.60        30\n",
      "weighted avg       0.71      0.60      0.61        30\n",
      "\n",
      "Accuracy : 0.6\n"
     ]
    }
   ],
   "source": [
    "from sklearn.metrics import classification_report, confusion_matrix, accuracy_score\n",
    "print(confusion_matrix(y_test,y_pred))\n",
    "print(classification_report(y_test,y_pred))\n",
    "print(\"Accuracy :\",accuracy_score(y_test, y_pred))"
   ]
  },
  {
   "cell_type": "code",
   "execution_count": 8,
   "id": "5c17caab",
   "metadata": {},
   "outputs": [],
   "source": [
    "#naive bayers gaussian classifier\n",
    "from sklearn.naive_bayes import GaussianNB\n",
    "nbclassifier = GaussianNB()\n",
    "nbclassifier.fit(x_train, y_train)\n",
    "y_prednb = nbclassifier.predict(x_test)"
   ]
  },
  {
   "cell_type": "code",
   "execution_count": 9,
   "id": "b67b1b7f",
   "metadata": {},
   "outputs": [
    {
     "name": "stdout",
     "output_type": "stream",
     "text": [
      "[[6 1 1]\n",
      " [2 6 3]\n",
      " [2 1 8]]\n",
      "              precision    recall  f1-score   support\n",
      "\n",
      "           0       0.60      0.75      0.67         8\n",
      "           1       0.75      0.55      0.63        11\n",
      "           2       0.67      0.73      0.70        11\n",
      "\n",
      "    accuracy                           0.67        30\n",
      "   macro avg       0.67      0.67      0.66        30\n",
      "weighted avg       0.68      0.67      0.66        30\n",
      "\n",
      "Accuracy : 0.6666666666666666\n"
     ]
    }
   ],
   "source": [
    "from sklearn.metrics import classification_report, confusion_matrix, accuracy_score\n",
    "print(confusion_matrix(y_test,y_prednb))\n",
    "print(classification_report(y_test,y_prednb))\n",
    "print(\"Accuracy :\",accuracy_score(y_test, y_prednb))"
   ]
  },
  {
   "cell_type": "markdown",
   "id": "20b48141",
   "metadata": {},
   "source": [
    "### Logistic Regression"
   ]
  },
  {
   "cell_type": "code",
   "execution_count": 10,
   "id": "6427a781",
   "metadata": {},
   "outputs": [],
   "source": [
    "#Logistic regression\n",
    "from sklearn.linear_model import LogisticRegression\n",
    "lrclassifier = LogisticRegression(random_state = 10, max_iter = 5000, class_weight = 'balanced')\n",
    "lrclassifier.fit(x_train, y_train)\n",
    "y_predlr = lrclassifier.predict(x_test)"
   ]
  },
  {
   "cell_type": "code",
   "execution_count": 11,
   "id": "3940b9a4",
   "metadata": {},
   "outputs": [
    {
     "name": "stdout",
     "output_type": "stream",
     "text": [
      "[[7 1 0]\n",
      " [2 7 2]\n",
      " [1 2 8]]\n",
      "              precision    recall  f1-score   support\n",
      "\n",
      "           0       0.70      0.88      0.78         8\n",
      "           1       0.70      0.64      0.67        11\n",
      "           2       0.80      0.73      0.76        11\n",
      "\n",
      "    accuracy                           0.73        30\n",
      "   macro avg       0.73      0.75      0.74        30\n",
      "weighted avg       0.74      0.73      0.73        30\n",
      "\n",
      "Accuracy : 0.7333333333333333\n"
     ]
    }
   ],
   "source": [
    "from sklearn.metrics import classification_report, confusion_matrix\n",
    "print(confusion_matrix(y_test,y_predlr))\n",
    "print(classification_report(y_test,y_predlr))\n",
    "print(\"Accuracy :\",accuracy_score(y_test, y_predlr))"
   ]
  },
  {
   "cell_type": "markdown",
   "id": "c5b47b02",
   "metadata": {},
   "source": [
    "### SVC Kernel"
   ]
  },
  {
   "cell_type": "code",
   "execution_count": 12,
   "id": "a89a0a0b",
   "metadata": {},
   "outputs": [],
   "source": [
    "# Fitting the classifier into the Training set\n",
    "from sklearn.svm import SVC\n",
    "classifier = SVC(kernel='rbf', random_state = 0)\n",
    "classifier.fit(x_train,y_train)\n",
    "y_predsvmk = classifier.predict(x_test)"
   ]
  },
  {
   "cell_type": "code",
   "execution_count": 13,
   "id": "649a4227",
   "metadata": {},
   "outputs": [
    {
     "name": "stdout",
     "output_type": "stream",
     "text": [
      "[[8 0 0]\n",
      " [5 1 5]\n",
      " [3 0 8]]\n",
      "              precision    recall  f1-score   support\n",
      "\n",
      "           0       0.50      1.00      0.67         8\n",
      "           1       1.00      0.09      0.17        11\n",
      "           2       0.62      0.73      0.67        11\n",
      "\n",
      "    accuracy                           0.57        30\n",
      "   macro avg       0.71      0.61      0.50        30\n",
      "weighted avg       0.73      0.57      0.48        30\n",
      "\n",
      "Accuracy : 0.5666666666666667\n"
     ]
    }
   ],
   "source": [
    "from sklearn.metrics import classification_report, confusion_matrix\n",
    "print(confusion_matrix(y_test,y_predsvmk))\n",
    "print(classification_report(y_test,y_predsvmk))\n",
    "print(\"Accuracy :\",accuracy_score(y_test, y_predsvmk))"
   ]
  },
  {
   "cell_type": "markdown",
   "id": "fccea6c5",
   "metadata": {},
   "source": [
    "### Multi-layer perceptron "
   ]
  },
  {
   "cell_type": "code",
   "execution_count": 14,
   "id": "c2639e57",
   "metadata": {},
   "outputs": [],
   "source": [
    "from sklearn.neural_network import MLPClassifier\n",
    "clf = MLPClassifier(solver='lbfgs', alpha=1e-5, hidden_layer_sizes=(4, 3), random_state=1, max_iter = 10000)\n",
    "clf.fit(x_train,y_train)  \n",
    "y_predmlp = classifier.predict(x_test)"
   ]
  },
  {
   "cell_type": "code",
   "execution_count": 15,
   "id": "2f686fb6",
   "metadata": {},
   "outputs": [
    {
     "name": "stdout",
     "output_type": "stream",
     "text": [
      "[[8 0 0]\n",
      " [5 1 5]\n",
      " [3 0 8]]\n",
      "              precision    recall  f1-score   support\n",
      "\n",
      "           0       0.50      1.00      0.67         8\n",
      "           1       1.00      0.09      0.17        11\n",
      "           2       0.62      0.73      0.67        11\n",
      "\n",
      "    accuracy                           0.57        30\n",
      "   macro avg       0.71      0.61      0.50        30\n",
      "weighted avg       0.73      0.57      0.48        30\n",
      "\n",
      "Accuracy : 0.5666666666666667\n"
     ]
    }
   ],
   "source": [
    "from sklearn.metrics import classification_report, confusion_matrix\n",
    "print(confusion_matrix(y_test,y_predmlp))\n",
    "print(classification_report(y_test,y_predmlp))\n",
    "print(\"Accuracy :\",accuracy_score(y_test, y_predmlp))"
   ]
  },
  {
   "cell_type": "code",
   "execution_count": null,
   "id": "4472c0d8",
   "metadata": {},
   "outputs": [],
   "source": []
  }
 ],
 "metadata": {
  "kernelspec": {
   "display_name": "Python 3 (ipykernel)",
   "language": "python",
   "name": "python3"
  },
  "language_info": {
   "codemirror_mode": {
    "name": "ipython",
    "version": 3
   },
   "file_extension": ".py",
   "mimetype": "text/x-python",
   "name": "python",
   "nbconvert_exporter": "python",
   "pygments_lexer": "ipython3",
   "version": "3.9.6"
  }
 },
 "nbformat": 4,
 "nbformat_minor": 5
}
